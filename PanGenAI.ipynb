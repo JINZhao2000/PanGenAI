{
 "cells": [
  {
   "cell_type": "code",
   "execution_count": 4,
   "id": "9aa3806f-cddd-4c94-96fb-590bbd043fea",
   "metadata": {},
   "outputs": [
    {
     "name": "stdout",
     "output_type": "stream",
     "text": [
      "Note: you may need to restart the kernel to use updated packages.\n"
     ]
    }
   ],
   "source": [
    "pip install neo4j -q"
   ]
  },
  {
   "cell_type": "code",
   "execution_count": null,
   "id": "2c96fdcd-f1bf-4df6-8ac5-0faeb045c456",
   "metadata": {},
   "outputs": [],
   "source": [
    "pip install graphdatascience -q"
   ]
  },
  {
   "cell_type": "code",
   "execution_count": 92,
   "id": "00baefdf-d53c-4d79-8c03-6f9c54d5ea5a",
   "metadata": {},
   "outputs": [],
   "source": [
    "import random\n",
    "from neo4j import GraphDatabase\n",
    "from graphdatascience import GraphDataScience\n",
    "import pandas as pd\n",
    "from sklearn.cluster import KMeans\n",
    "from sklearn.metrics import silhouette_score\n",
    "import seaborn as sns\n",
    "import networkx \n",
    "import pandas as pd\n",
    "import matplotlib.pyplot as plt"
   ]
  },
  {
   "cell_type": "code",
   "execution_count": 83,
   "id": "a4080789-f8c1-4720-96dd-80b9d7b7e4e5",
   "metadata": {},
   "outputs": [],
   "source": [
    "host = \"bolt://host:7687\"\n",
    "user = \"\"\n",
    "password = \"\"\n",
    "\n",
    "gds = GraphDataScience(host, auth=(user, password))"
   ]
  },
  {
   "cell_type": "code",
   "execution_count": 117,
   "id": "aa8ebbb8-fff1-465d-a352-3718c3e40851",
   "metadata": {},
   "outputs": [],
   "source": [
    "Fam, results = gds.graph.project(\"Famm\", \"Family\", \n",
    "                                   {\"NEIGHBOR\": {\"orientation\": \"UNDIRECTED\"},\n",
    "                                    \"IS_SIMILAR\": {\"orientation\": \"UNDIRECTED\"}\n",
    "                                    })"
   ]
  },
  {
   "cell_type": "code",
   "execution_count": 112,
   "id": "76689139-4499-4db8-86e4-765a1bcdc74e",
   "metadata": {},
   "outputs": [
    {
     "data": {
      "application/vnd.jupyter.widget-view+json": {
       "model_id": "1c9853ca603d4585ace01487574bc322",
       "version_major": 2,
       "version_minor": 0
      },
      "text/plain": [
       "Louvain:   0%|          | 0/100 [00:00<?, ?%/s]"
      ]
     },
     "metadata": {},
     "output_type": "display_data"
    },
    {
     "data": {
      "text/plain": [
       "writeMillis                                                            828\n",
       "nodePropertiesWritten                                                90872\n",
       "modularity                                                        0.941388\n",
       "modularities             [0.6689057085223302, 0.861720049912901, 0.9265...\n",
       "ranLevels                                                                5\n",
       "communityCount                                                         639\n",
       "communityDistribution    {'p99': 1814, 'min': 1, 'max': 2783, 'mean': 1...\n",
       "postProcessingMillis                                                    14\n",
       "preProcessingMillis                                                      0\n",
       "computeMillis                                                         7209\n",
       "configuration            {'maxIterations': 10, 'writeConcurrency': 4, '...\n",
       "Name: 0, dtype: object"
      ]
     },
     "execution_count": 112,
     "metadata": {},
     "output_type": "execute_result"
    }
   ],
   "source": [
    "gds.louvain.write(Fam, writeProperty = \"louvainCommunity\")"
   ]
  },
  {
   "cell_type": "code",
   "execution_count": 131,
   "id": "0c21d8f5-582d-41d2-a0bc-b034da0e061a",
   "metadata": {},
   "outputs": [
    {
     "data": {
      "application/vnd.jupyter.widget-view+json": {
       "model_id": "bcb33fee4c7a4688887c116dbe933968",
       "version_major": 2,
       "version_minor": 0
      },
      "text/plain": [
       "LabelPropagation:   0%|          | 0/100 [00:00<?, ?%/s]"
      ]
     },
     "metadata": {},
     "output_type": "display_data"
    },
    {
     "data": {
      "text/plain": [
       "writeMillis                                                            202\n",
       "nodePropertiesWritten                                                90872\n",
       "ranIterations                                                           10\n",
       "didConverge                                                          False\n",
       "communityCount                                                       18063\n",
       "communityDistribution    {'p99': 27, 'min': 1, 'max': 1492, 'mean': 5.0...\n",
       "postProcessingMillis                                                    29\n",
       "preProcessingMillis                                                      0\n",
       "computeMillis                                                          777\n",
       "configuration            {'jobId': '9acc2b4f-efb9-4e0c-a67a-17caf8b75d1...\n",
       "Name: 0, dtype: object"
      ]
     },
     "execution_count": 131,
     "metadata": {},
     "output_type": "execute_result"
    }
   ],
   "source": [
    "gds.labelPropagation.write(Fam, writeProperty = \"labelPropCommunity\")"
   ]
  },
  {
   "cell_type": "code",
   "execution_count": 118,
   "id": "057ebf1b-7b20-466f-ba7c-e0a30accda27",
   "metadata": {},
   "outputs": [],
   "source": [
    "louvain_df = gds.run_cypher(\"\"\"\n",
    "CALL gds.louvain.stream('Famm')\n",
    "YIELD nodeId, communityId\n",
    "RETURN count(gds.util.asNode(nodeId).name) as family, communityId\n",
    "ORDER BY family desc\"\"\")\n",
    "label_df = gds.run_cypher(\"\"\"\n",
    "CALL gds.labelPropagation.stream('Famm')\n",
    "YIELD nodeId, communityId\n",
    "RETURN count(gds.util.asNode(nodeId).name) as family, communityId\n",
    "ORDER BY family desc\"\"\")"
   ]
  },
  {
   "cell_type": "code",
   "execution_count": 141,
   "id": "ee670582-b976-4ca0-8d8f-54d5b737c172",
   "metadata": {},
   "outputs": [
    {
     "data": {
      "text/plain": [
       "{'p99': 48,\n",
       " 'min': 1,\n",
       " 'max': 89512,\n",
       " 'mean': 199.71868131868132,\n",
       " 'p90': 5,\n",
       " 'p50': 1,\n",
       " 'p999': 89512,\n",
       " 'p95': 11,\n",
       " 'p75': 2}"
      ]
     },
     "execution_count": 141,
     "metadata": {},
     "output_type": "execute_result"
    }
   ],
   "source": [
    "gds.wcc.stats(Fam)['componentDistribution']"
   ]
  },
  {
   "cell_type": "code",
   "execution_count": 140,
   "id": "7d1c66f3-3280-4e63-9f09-11117ecfadce",
   "metadata": {},
   "outputs": [
    {
     "name": "stdout",
     "output_type": "stream",
     "text": [
      "Note: you may need to restart the kernel to use updated packages.\n"
     ]
    }
   ],
   "source": [
    "pip install ipython-cypher -q"
   ]
  },
  {
   "cell_type": "code",
   "execution_count": 119,
   "id": "62abc779-2f74-4529-9a81-e347b3982716",
   "metadata": {},
   "outputs": [],
   "source": [
    "louvain_df = louvain_df.sort_values(by='family', ascending=False)\n",
    "label_df = label_df.sort_values(by='family', ascending=False)"
   ]
  },
  {
   "cell_type": "code",
   "execution_count": 123,
   "id": "cc266e5c-4e04-4b5d-a510-f6eb53f516af",
   "metadata": {},
   "outputs": [
    {
     "data": {
      "text/plain": [
       "(633, 18061)"
      ]
     },
     "execution_count": 123,
     "metadata": {},
     "output_type": "execute_result"
    }
   ],
   "source": [
    "len(louvain_df), len(label_df)"
   ]
  },
  {
   "cell_type": "code",
   "execution_count": 143,
   "id": "934ed714-df0b-4093-ae6b-98859c9a5992",
   "metadata": {},
   "outputs": [
    {
     "data": {
      "image/png": "[encoded data removed]",
      "text/plain": [
       "<Figure size 1000x700 with 1 Axes>"
      ]
     },
     "metadata": {},
     "output_type": "display_data"
    }
   ],
   "source": [
    "fig, ax = plt.subplots(figsize=(10, 7))\n",
    "\n",
    "#plt.plot(label_df['family'], label_df['communityId'], label = \"label\")\n",
    "ax.hist(louvain_df['family'], label = \"louvain\", bins=25, color='grey', alpha = 0.5)\n",
    "ax.hist(label_df['family'], label = \"labelProp\", bins=25, color='blue', alpha=0.5)\n",
    "\n",
    "# Add labels and title\n",
    "plt.xlabel('Cluster ID')\n",
    "plt.ylabel('Cluster Size')\n",
    "plt.title('Cluster Sizes')\n",
    "\n",
    "plt.yscale('log')\n",
    "\n",
    "plt.legend()\n",
    "\n",
    "# Display the plot\n",
    "plt.show()"
   ]
  },
  {
   "cell_type": "code",
   "execution_count": 54,
   "id": "40db4681-07bc-4a3c-8f83-79007cf3ca5b",
   "metadata": {},
   "outputs": [],
   "source": [
    "kmeans = KMeans(n_clusters=10)"
   ]
  },
  {
   "cell_type": "code",
   "execution_count": 52,
   "id": "f74f1c5e-8eca-4fa8-a5d2-cd6a2eb429c4",
   "metadata": {},
   "outputs": [],
   "source": [
    "embedding_df = gds.fastRP.stream(Fam, embeddingDimension=32)"
   ]
  },
  {
   "cell_type": "code",
   "execution_count": 142,
   "id": "bf842a8f-87ce-450a-a87d-a46c0acac987",
   "metadata": {},
   "outputs": [],
   "source": [
    "kmeans_clusters = kmeans.fit_transform(list(embedding_df['embedding']))"
   ]
  },
  {
   "cell_type": "code",
   "execution_count": null,
   "id": "f183400e-f697-4576-ad22-6384d63b04b7",
   "metadata": {},
   "outputs": [],
   "source": [
    "embedding_df['cluster'] = kmeans.labels_"
   ]
  },
  {
   "cell_type": "code",
   "execution_count": null,
   "id": "6077f3be-9ec6-475e-9efa-5acbc436a25b",
   "metadata": {},
   "outputs": [],
   "source": [
    "embedding_df['cluster'].value_counts()"
   ]
  },
  {
   "cell_type": "code",
   "execution_count": null,
   "id": "261ce559-7025-483c-aaf5-73f91cfac9e3",
   "metadata": {},
   "outputs": [],
   "source": [
    "silhouette_score(list(embedding_df['embedding']), embedding_df['cluster'])"
   ]
  },
  {
   "cell_type": "code",
   "execution_count": null,
   "id": "2e6f1c60-66c0-472f-a7ce-f899f2fef01d",
   "metadata": {},
   "outputs": [],
   "source": [
    "kmeans_dict = embedding_df[['nodeId', 'cluster']].to_dict(\"records\")"
   ]
  },
  {
   "cell_type": "code",
   "execution_count": null,
   "id": "f1bfb598-30f8-4691-923d-261913406c67",
   "metadata": {},
   "outputs": [],
   "source": [
    "gds.run_cypher(\"\"\"\n",
    "UNWIND $kmeansAssigments as row\n",
    "MATCH (n) where id(n) = row['nodeId']\n",
    "SET n.kMeansCommunity = row['cluster']\n",
    "\"\"\", {\"kmeansAssigments\": kmeans_dict})"
   ]
  }
 ],
 "metadata": {
  "kernelspec": {
   "display_name": "Python 3 (ipykernel)",
   "language": "python",
   "name": "python3"
  },
  "language_info": {
   "codemirror_mode": {
    "name": "ipython",
    "version": 3
   },
   "file_extension": ".py",
   "mimetype": "text/x-python",
   "name": "python",
   "nbconvert_exporter": "python",
   "pygments_lexer": "ipython3",
   "version": "3.9.13"
  }
 },
 "nbformat": 4,
 "nbformat_minor": 5
}
